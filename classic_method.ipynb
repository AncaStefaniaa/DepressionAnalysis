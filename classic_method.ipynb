{
 "cells": [
  {
   "cell_type": "code",
   "execution_count": 9,
   "metadata": {},
   "outputs": [
    {
     "name": "stderr",
     "output_type": "stream",
     "text": [
      "[nltk_data] Downloading package stopwords to\n",
      "[nltk_data]     C:\\Users\\anca.ilicea\\AppData\\Roaming\\nltk_data...\n",
      "[nltk_data]   Package stopwords is already up-to-date!\n",
      "[nltk_data] Downloading package wordnet to\n",
      "[nltk_data]     C:\\Users\\anca.ilicea\\AppData\\Roaming\\nltk_data...\n",
      "[nltk_data]   Package wordnet is already up-to-date!\n"
     ]
    },
    {
     "data": {
      "text/plain": [
       "True"
      ]
     },
     "execution_count": 9,
     "metadata": {},
     "output_type": "execute_result"
    }
   ],
   "source": [
    "import nltk\n",
    "import pandas as pd\n",
    "import numpy as np\n",
    "import re\n",
    "import emoji\n",
    "\n",
    "from sklearn.feature_extraction.text import CountVectorizer\n",
    "from nltk.stem import WordNetLemmatizer\n",
    "from nltk.corpus import stopwords\n",
    "from sklearn.svm import SVC\n",
    "from sklearn import metrics\n",
    "nltk.download('stopwords')\n",
    "nltk.download('wordnet')\n",
    "\n",
    "# Dataset link: https://github.com/ayaanzhaque/SDCNL/tree/main/data"
   ]
  },
  {
   "cell_type": "code",
   "execution_count": 10,
   "metadata": {},
   "outputs": [
    {
     "name": "stdout",
     "output_type": "stream",
     "text": [
      "(1516, 13)\n",
      "(379, 13)\n"
     ]
    }
   ],
   "source": [
    "train = pd.read_csv('./train.csv')\n",
    "test = pd.read_csv('./test.csv')\n",
    "print(train.shape)\n",
    "print(test.shape)\n",
    "df_train = train[[\"selftext\", \"is_suicide\"]]\n",
    "df_test = test[[\"selftext\", \"is_suicide\"]]"
   ]
  },
  {
   "cell_type": "code",
   "execution_count": 11,
   "metadata": {},
   "outputs": [],
   "source": [
    "def remove_stopwords(post):\n",
    "    stop_words_nltk = set(stopwords.words('english'))\n",
    "    processed = [word for word in post if not word in stop_words_nltk]\n",
    "\n",
    "    return processed"
   ]
  },
  {
   "cell_type": "code",
   "execution_count": 12,
   "metadata": {},
   "outputs": [],
   "source": [
    "def lemmatize(post):\n",
    "    lemmatizer = WordNetLemmatizer()\n",
    "    return [lemmatizer.lemmatize(word) for word in post]"
   ]
  },
  {
   "cell_type": "code",
   "execution_count": 13,
   "metadata": {},
   "outputs": [],
   "source": [
    "def preprocess(posts):\n",
    "    prepocessed_posts = []\n",
    "    for post in posts:\n",
    "        post = post.lower()\n",
    "        post = post.replace(\"\\n\", \"\")\n",
    "        post = re.sub(r'@\\w+ ?', '', post)\n",
    "        post = re.sub(r'#\\w+ ?', '', post)\n",
    "        post = re.sub(r'http\\S+', '', post)\n",
    "        post = re.sub(r'\\d+', '', post)\n",
    "        post = re.sub(r'[^\\w\\s]',' ', post)\n",
    "        post = emoji.get_emoji_regexp().sub(u'', post)\n",
    "\n",
    "        post = post.split()\n",
    "        post = remove_stopwords(post)\n",
    "        post = lemmatize(post)\n",
    "        \n",
    "        prepocessed_posts.append(post)\n",
    "    return prepocessed_posts\n",
    "\n",
    "preprocessed_train = preprocess(df_train[\"selftext\"])\n",
    "preprocessed_test = preprocess(df_test[\"selftext\"])"
   ]
  },
  {
   "cell_type": "code",
   "execution_count": 14,
   "metadata": {},
   "outputs": [
    {
     "name": "stdout",
     "output_type": "stream",
     "text": [
      "0       Hi I don't really know how to phrase this situ...\n",
      "1       i have been so depressed these past couple wee...\n",
      "2       Hi..I don't know where else to go. I am devast...\n",
      "3       The shit like “it will get better, everyone is...\n",
      "4       I wish I was prettier. I wish I didn’t feel li...\n",
      "                              ...                        \n",
      "1511    Every night it’s “you guys want ice cream?” Af...\n",
      "1512    I would like to say that I was shook, but I kn...\n",
      "1513    I can't take this anymore. I've been wanting t...\n",
      "1514                                            emptypost\n",
      "1515    I feel like people are controlling every aspec...\n",
      "Name: selftext, Length: 1516, dtype: object\n",
      "Size of vocabulary for raw train data: 11287\n"
     ]
    },
    {
     "name": "stderr",
     "output_type": "stream",
     "text": [
      "C:\\Users\\anca.ilicea\\AppData\\Local\\Programs\\Python\\Python38\\lib\\site-packages\\sklearn\\utils\\deprecation.py:87: FutureWarning: Function get_feature_names is deprecated; get_feature_names is deprecated in 1.0 and will be removed in 1.2. Please use get_feature_names_out instead.\n",
      "  warnings.warn(msg, category=FutureWarning)\n"
     ]
    }
   ],
   "source": [
    "vectorizer = CountVectorizer(lowercase = False)\n",
    "print(df_train[\"selftext\"])\n",
    "vect = vectorizer.fit(df_train[\"selftext\"])\n",
    "\n",
    "bow_train_raw = vect.transform(df_train[\"selftext\"])\n",
    "bow_test_raw = vect.transform(df_test[\"selftext\"])\n",
    "vocabulary = vectorizer.get_feature_names()\n",
    "\n",
    "print('Size of vocabulary for raw train data:', len(vocabulary))"
   ]
  },
  {
   "cell_type": "code",
   "execution_count": 15,
   "metadata": {},
   "outputs": [],
   "source": [
    "str_train = [\" \".join(text) for text in preprocessed_train]\n",
    "str_test = [\" \".join(text) for text in preprocessed_test]"
   ]
  },
  {
   "cell_type": "code",
   "execution_count": 16,
   "metadata": {},
   "outputs": [
    {
     "name": "stdout",
     "output_type": "stream",
     "text": [
      "Size of vocabulary for processed train data: 8683\n"
     ]
    }
   ],
   "source": [
    "vectorizer = CountVectorizer(lowercase = True)\n",
    "\n",
    "vect = vectorizer.fit(str_train)\n",
    "\n",
    "bow_train = vect.transform(str_train)\n",
    "bow_test = vect.transform(str_test)\n",
    "\n",
    "vocabulary = vectorizer.get_feature_names_out()\n",
    "\n",
    "print('Size of vocabulary for processed train data:', len(vocabulary))"
   ]
  },
  {
   "cell_type": "code",
   "execution_count": 23,
   "metadata": {},
   "outputs": [
    {
     "name": "stdout",
     "output_type": "stream",
     "text": [
      "Result without processing text: 0.5197889182058048\n"
     ]
    }
   ],
   "source": [
    "from sklearn.neighbors import KNeighborsClassifier\n",
    "neigh = KNeighborsClassifier(n_neighbors=7)\n",
    "neigh.fit(bow_train_raw, df_train[\"is_suicide\"])\n",
    "pred_labels = neigh.predict(bow_test_raw)\n",
    "print('Result without processing text:', metrics.accuracy_score(df_test[\"is_suicide\"], pred_labels))"
   ]
  },
  {
   "cell_type": "code",
   "execution_count": 24,
   "metadata": {},
   "outputs": [
    {
     "name": "stdout",
     "output_type": "stream",
     "text": [
      "Result without processing text: 0.5620052770448549\n"
     ]
    }
   ],
   "source": [
    "from sklearn.neighbors import KNeighborsClassifier\n",
    "neigh = KNeighborsClassifier(n_neighbors=7)\n",
    "neigh.fit(bow_train, df_train[\"is_suicide\"])\n",
    "pred_labels = neigh.predict(bow_test)\n",
    "print('Result without processing text:', metrics.accuracy_score(df_test[\"is_suicide\"], pred_labels))"
   ]
  },
  {
   "cell_type": "code",
   "execution_count": null,
   "metadata": {},
   "outputs": [
    {
     "name": "stdout",
     "output_type": "stream",
     "text": [
      "Result without processing text: 0.6437994722955145\n"
     ]
    }
   ],
   "source": [
    "bestC = 1.0\n",
    "\n",
    "clf = SVC(kernel='linear', C = bestC)\n",
    "clf.fit(bow_train_raw, df_train[\"is_suicide\"])\n",
    "\n",
    "pred_labels = clf.predict(bow_test_raw)\n",
    "print('Result without processing text:', metrics.accuracy_score(df_test[\"is_suicide\"], pred_labels))"
   ]
  },
  {
   "cell_type": "code",
   "execution_count": null,
   "metadata": {},
   "outputs": [
    {
     "name": "stdout",
     "output_type": "stream",
     "text": [
      "Result with processing text: 0.6649076517150396\n"
     ]
    }
   ],
   "source": [
    "bestC = 1.0\n",
    "\n",
    "clf = SVC(kernel='linear', C = bestC)\n",
    "clf.fit(bow_train, df_train[\"is_suicide\"])\n",
    "\n",
    "pred_labels = clf.predict(bow_test)\n",
    "print('Result with processing text:', metrics.accuracy_score(df_test[\"is_suicide\"], pred_labels))"
   ]
  }
 ],
 "metadata": {
  "interpreter": {
   "hash": "ee7476d4488ee7c8be8ba4a3245cb714b117ee0419c45abf8f8c293ad4fb1580"
  },
  "kernelspec": {
   "display_name": "Python 3.8.0 64-bit",
   "language": "python",
   "name": "python3"
  },
  "language_info": {
   "codemirror_mode": {
    "name": "ipython",
    "version": 3
   },
   "file_extension": ".py",
   "mimetype": "text/x-python",
   "name": "python",
   "nbconvert_exporter": "python",
   "pygments_lexer": "ipython3",
   "version": "3.8.0"
  },
  "orig_nbformat": 4
 },
 "nbformat": 4,
 "nbformat_minor": 2
}
